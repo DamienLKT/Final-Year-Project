{
 "cells": [
  {
   "cell_type": "markdown",
   "metadata": {},
   "source": [
    "## Sharpe Ratio"
   ]
  },
  {
   "cell_type": "code",
   "execution_count": 4,
   "metadata": {},
   "outputs": [
    {
     "name": "stdout",
     "output_type": "stream",
     "text": [
      "Requirement already satisfied: numpy in c:\\users\\damien lim\\anaconda3\\lib\\site-packages (1.20.1)\n",
      "Requirement already satisfied: pandas_datareader in c:\\users\\damien lim\\anaconda3\\lib\\site-packages (0.10.0)\n",
      "Requirement already satisfied: pandas>=0.23 in c:\\users\\damien lim\\anaconda3\\lib\\site-packages (from pandas_datareader) (1.2.4)\n",
      "Requirement already satisfied: requests>=2.19.0 in c:\\users\\damien lim\\anaconda3\\lib\\site-packages (from pandas_datareader) (2.25.1)\n",
      "Requirement already satisfied: lxml in c:\\users\\damien lim\\anaconda3\\lib\\site-packages (from pandas_datareader) (4.6.3)\n",
      "Requirement already satisfied: pytz>=2017.3 in c:\\users\\damien lim\\anaconda3\\lib\\site-packages (from pandas>=0.23->pandas_datareader) (2021.1)\n",
      "Requirement already satisfied: numpy>=1.16.5 in c:\\users\\damien lim\\anaconda3\\lib\\site-packages (from pandas>=0.23->pandas_datareader) (1.20.1)\n",
      "Requirement already satisfied: python-dateutil>=2.7.3 in c:\\users\\damien lim\\anaconda3\\lib\\site-packages (from pandas>=0.23->pandas_datareader) (2.8.1)\n",
      "Requirement already satisfied: six>=1.5 in c:\\users\\damien lim\\anaconda3\\lib\\site-packages (from python-dateutil>=2.7.3->pandas>=0.23->pandas_datareader) (1.15.0)\n",
      "Requirement already satisfied: chardet<5,>=3.0.2 in c:\\users\\damien lim\\anaconda3\\lib\\site-packages (from requests>=2.19.0->pandas_datareader) (4.0.0)\n",
      "Requirement already satisfied: idna<3,>=2.5 in c:\\users\\damien lim\\anaconda3\\lib\\site-packages (from requests>=2.19.0->pandas_datareader) (2.10)\n",
      "Requirement already satisfied: certifi>=2017.4.17 in c:\\users\\damien lim\\anaconda3\\lib\\site-packages (from requests>=2.19.0->pandas_datareader) (2020.12.5)\n",
      "Requirement already satisfied: urllib3<1.27,>=1.21.1 in c:\\users\\damien lim\\anaconda3\\lib\\site-packages (from requests>=2.19.0->pandas_datareader) (1.26.4)\n",
      "Requirement already satisfied: datetime in c:\\users\\damien lim\\anaconda3\\lib\\site-packages (4.3)\n",
      "Requirement already satisfied: pytz in c:\\users\\damien lim\\anaconda3\\lib\\site-packages (from datetime) (2021.1)\n",
      "Requirement already satisfied: zope.interface in c:\\users\\damien lim\\anaconda3\\lib\\site-packages (from datetime) (5.3.0)\n",
      "Requirement already satisfied: setuptools in c:\\users\\damien lim\\anaconda3\\lib\\site-packages (from zope.interface->datetime) (52.0.0.post20210125)\n",
      "Requirement already satisfied: pandas in c:\\users\\damien lim\\anaconda3\\lib\\site-packages (1.2.4)\n",
      "Requirement already satisfied: python-dateutil>=2.7.3 in c:\\users\\damien lim\\anaconda3\\lib\\site-packages (from pandas) (2.8.1)\n",
      "Requirement already satisfied: numpy>=1.16.5 in c:\\users\\damien lim\\anaconda3\\lib\\site-packages (from pandas) (1.20.1)\n",
      "Requirement already satisfied: pytz>=2017.3 in c:\\users\\damien lim\\anaconda3\\lib\\site-packages (from pandas) (2021.1)\n",
      "Requirement already satisfied: six>=1.5 in c:\\users\\damien lim\\anaconda3\\lib\\site-packages (from python-dateutil>=2.7.3->pandas) (1.15.0)\n",
      "Requirement already satisfied: matplotlib in c:\\users\\damien lim\\anaconda3\\lib\\site-packages (3.3.4)\n",
      "Requirement already satisfied: pyparsing!=2.0.4,!=2.1.2,!=2.1.6,>=2.0.3 in c:\\users\\damien lim\\anaconda3\\lib\\site-packages (from matplotlib) (2.4.7)\n",
      "Requirement already satisfied: python-dateutil>=2.1 in c:\\users\\damien lim\\anaconda3\\lib\\site-packages (from matplotlib) (2.8.1)\n",
      "Requirement already satisfied: cycler>=0.10 in c:\\users\\damien lim\\anaconda3\\lib\\site-packages (from matplotlib) (0.10.0)\n",
      "Requirement already satisfied: numpy>=1.15 in c:\\users\\damien lim\\anaconda3\\lib\\site-packages (from matplotlib) (1.20.1)\n",
      "Requirement already satisfied: pillow>=6.2.0 in c:\\users\\damien lim\\anaconda3\\lib\\site-packages (from matplotlib) (8.2.0)\n",
      "Requirement already satisfied: kiwisolver>=1.0.1 in c:\\users\\damien lim\\anaconda3\\lib\\site-packages (from matplotlib) (1.3.1)\n",
      "Requirement already satisfied: six in c:\\users\\damien lim\\anaconda3\\lib\\site-packages (from cycler>=0.10->matplotlib) (1.15.0)\n"
     ]
    }
   ],
   "source": [
    "!pip install numpy\n",
    "!pip install pandas_datareader\n",
    "!pip install datetime\n",
    "!pip install pandas\n",
    "!pip install matplotlib"
   ]
  },
  {
   "cell_type": "code",
   "execution_count": 5,
   "metadata": {},
   "outputs": [],
   "source": [
    "import numpy as np\n",
    "import pandas_datareader as pdr\n",
    "import datetime as dt\n",
    "import pandas as pd"
   ]
  },
  {
   "cell_type": "code",
   "execution_count": 63,
   "metadata": {},
   "outputs": [],
   "source": [
    "tickers = ['AAPL', 'MSFT', 'TWTR', 'IBM']\n",
    "start = dt.datetime(2020, 1, 1)\n",
    "\n",
    "data=pdr.get_data_yahoo(tickers,start)"
   ]
  },
  {
   "cell_type": "code",
   "execution_count": 64,
   "metadata": {},
   "outputs": [
    {
     "data": {
      "text/html": [
       "<div>\n",
       "<style scoped>\n",
       "    .dataframe tbody tr th:only-of-type {\n",
       "        vertical-align: middle;\n",
       "    }\n",
       "\n",
       "    .dataframe tbody tr th {\n",
       "        vertical-align: top;\n",
       "    }\n",
       "\n",
       "    .dataframe thead tr th {\n",
       "        text-align: left;\n",
       "    }\n",
       "\n",
       "    .dataframe thead tr:last-of-type th {\n",
       "        text-align: right;\n",
       "    }\n",
       "</style>\n",
       "<table border=\"1\" class=\"dataframe\">\n",
       "  <thead>\n",
       "    <tr>\n",
       "      <th>Attributes</th>\n",
       "      <th colspan=\"4\" halign=\"left\">Adj Close</th>\n",
       "      <th colspan=\"4\" halign=\"left\">Close</th>\n",
       "      <th colspan=\"2\" halign=\"left\">High</th>\n",
       "      <th>...</th>\n",
       "      <th colspan=\"2\" halign=\"left\">Low</th>\n",
       "      <th colspan=\"4\" halign=\"left\">Open</th>\n",
       "      <th colspan=\"4\" halign=\"left\">Volume</th>\n",
       "    </tr>\n",
       "    <tr>\n",
       "      <th>Symbols</th>\n",
       "      <th>AAPL</th>\n",
       "      <th>MSFT</th>\n",
       "      <th>TWTR</th>\n",
       "      <th>IBM</th>\n",
       "      <th>AAPL</th>\n",
       "      <th>MSFT</th>\n",
       "      <th>TWTR</th>\n",
       "      <th>IBM</th>\n",
       "      <th>AAPL</th>\n",
       "      <th>MSFT</th>\n",
       "      <th>...</th>\n",
       "      <th>TWTR</th>\n",
       "      <th>IBM</th>\n",
       "      <th>AAPL</th>\n",
       "      <th>MSFT</th>\n",
       "      <th>TWTR</th>\n",
       "      <th>IBM</th>\n",
       "      <th>AAPL</th>\n",
       "      <th>MSFT</th>\n",
       "      <th>TWTR</th>\n",
       "      <th>IBM</th>\n",
       "    </tr>\n",
       "    <tr>\n",
       "      <th>Date</th>\n",
       "      <th></th>\n",
       "      <th></th>\n",
       "      <th></th>\n",
       "      <th></th>\n",
       "      <th></th>\n",
       "      <th></th>\n",
       "      <th></th>\n",
       "      <th></th>\n",
       "      <th></th>\n",
       "      <th></th>\n",
       "      <th></th>\n",
       "      <th></th>\n",
       "      <th></th>\n",
       "      <th></th>\n",
       "      <th></th>\n",
       "      <th></th>\n",
       "      <th></th>\n",
       "      <th></th>\n",
       "      <th></th>\n",
       "      <th></th>\n",
       "      <th></th>\n",
       "    </tr>\n",
       "  </thead>\n",
       "  <tbody>\n",
       "    <tr>\n",
       "      <th>2019-12-31</th>\n",
       "      <td>72.337990</td>\n",
       "      <td>154.749725</td>\n",
       "      <td>32.049999</td>\n",
       "      <td>115.927086</td>\n",
       "      <td>73.412498</td>\n",
       "      <td>157.699997</td>\n",
       "      <td>32.049999</td>\n",
       "      <td>128.145309</td>\n",
       "      <td>73.419998</td>\n",
       "      <td>157.770004</td>\n",
       "      <td>...</td>\n",
       "      <td>31.770000</td>\n",
       "      <td>126.577438</td>\n",
       "      <td>72.482498</td>\n",
       "      <td>156.770004</td>\n",
       "      <td>31.860001</td>\n",
       "      <td>126.701721</td>\n",
       "      <td>100805600.0</td>\n",
       "      <td>18369400.0</td>\n",
       "      <td>11050600.0</td>\n",
       "      <td>3951265.0</td>\n",
       "    </tr>\n",
       "    <tr>\n",
       "      <th>2020-01-02</th>\n",
       "      <td>73.988472</td>\n",
       "      <td>157.615128</td>\n",
       "      <td>32.299999</td>\n",
       "      <td>117.120598</td>\n",
       "      <td>75.087502</td>\n",
       "      <td>160.619995</td>\n",
       "      <td>32.299999</td>\n",
       "      <td>129.464630</td>\n",
       "      <td>75.150002</td>\n",
       "      <td>160.729996</td>\n",
       "      <td>...</td>\n",
       "      <td>31.959999</td>\n",
       "      <td>128.843216</td>\n",
       "      <td>74.059998</td>\n",
       "      <td>158.779999</td>\n",
       "      <td>32.310001</td>\n",
       "      <td>129.063095</td>\n",
       "      <td>135480400.0</td>\n",
       "      <td>22622100.0</td>\n",
       "      <td>10721100.0</td>\n",
       "      <td>3293436.0</td>\n",
       "    </tr>\n",
       "    <tr>\n",
       "      <th>2020-01-03</th>\n",
       "      <td>73.269150</td>\n",
       "      <td>155.652542</td>\n",
       "      <td>31.520000</td>\n",
       "      <td>116.186539</td>\n",
       "      <td>74.357498</td>\n",
       "      <td>158.619995</td>\n",
       "      <td>31.520000</td>\n",
       "      <td>128.432129</td>\n",
       "      <td>75.144997</td>\n",
       "      <td>159.949997</td>\n",
       "      <td>...</td>\n",
       "      <td>31.260000</td>\n",
       "      <td>127.686424</td>\n",
       "      <td>74.287498</td>\n",
       "      <td>158.320007</td>\n",
       "      <td>31.709999</td>\n",
       "      <td>127.695984</td>\n",
       "      <td>146322800.0</td>\n",
       "      <td>21116200.0</td>\n",
       "      <td>14429500.0</td>\n",
       "      <td>2482890.0</td>\n",
       "    </tr>\n",
       "    <tr>\n",
       "      <th>2020-01-06</th>\n",
       "      <td>73.852989</td>\n",
       "      <td>156.054871</td>\n",
       "      <td>31.639999</td>\n",
       "      <td>115.978973</td>\n",
       "      <td>74.949997</td>\n",
       "      <td>159.029999</td>\n",
       "      <td>31.639999</td>\n",
       "      <td>128.202682</td>\n",
       "      <td>74.989998</td>\n",
       "      <td>159.100006</td>\n",
       "      <td>...</td>\n",
       "      <td>31.160000</td>\n",
       "      <td>127.342255</td>\n",
       "      <td>73.447502</td>\n",
       "      <td>157.080002</td>\n",
       "      <td>31.230000</td>\n",
       "      <td>127.552582</td>\n",
       "      <td>118387200.0</td>\n",
       "      <td>20813700.0</td>\n",
       "      <td>12582500.0</td>\n",
       "      <td>2537073.0</td>\n",
       "    </tr>\n",
       "    <tr>\n",
       "      <th>2020-01-07</th>\n",
       "      <td>73.505646</td>\n",
       "      <td>154.631989</td>\n",
       "      <td>32.540001</td>\n",
       "      <td>116.056808</td>\n",
       "      <td>74.597504</td>\n",
       "      <td>157.580002</td>\n",
       "      <td>32.540001</td>\n",
       "      <td>128.288712</td>\n",
       "      <td>75.224998</td>\n",
       "      <td>159.669998</td>\n",
       "      <td>...</td>\n",
       "      <td>31.719999</td>\n",
       "      <td>127.533463</td>\n",
       "      <td>74.959999</td>\n",
       "      <td>159.320007</td>\n",
       "      <td>31.799999</td>\n",
       "      <td>127.810707</td>\n",
       "      <td>108872000.0</td>\n",
       "      <td>21634100.0</td>\n",
       "      <td>13712900.0</td>\n",
       "      <td>3232977.0</td>\n",
       "    </tr>\n",
       "  </tbody>\n",
       "</table>\n",
       "<p>5 rows × 24 columns</p>\n",
       "</div>"
      ],
      "text/plain": [
       "Attributes  Adj Close                                         Close  \\\n",
       "Symbols          AAPL        MSFT       TWTR         IBM       AAPL   \n",
       "Date                                                                  \n",
       "2019-12-31  72.337990  154.749725  32.049999  115.927086  73.412498   \n",
       "2020-01-02  73.988472  157.615128  32.299999  117.120598  75.087502   \n",
       "2020-01-03  73.269150  155.652542  31.520000  116.186539  74.357498   \n",
       "2020-01-06  73.852989  156.054871  31.639999  115.978973  74.949997   \n",
       "2020-01-07  73.505646  154.631989  32.540001  116.056808  74.597504   \n",
       "\n",
       "Attributes                                          High              ...  \\\n",
       "Symbols           MSFT       TWTR         IBM       AAPL        MSFT  ...   \n",
       "Date                                                                  ...   \n",
       "2019-12-31  157.699997  32.049999  128.145309  73.419998  157.770004  ...   \n",
       "2020-01-02  160.619995  32.299999  129.464630  75.150002  160.729996  ...   \n",
       "2020-01-03  158.619995  31.520000  128.432129  75.144997  159.949997  ...   \n",
       "2020-01-06  159.029999  31.639999  128.202682  74.989998  159.100006  ...   \n",
       "2020-01-07  157.580002  32.540001  128.288712  75.224998  159.669998  ...   \n",
       "\n",
       "Attributes        Low                   Open                         \\\n",
       "Symbols          TWTR         IBM       AAPL        MSFT       TWTR   \n",
       "Date                                                                  \n",
       "2019-12-31  31.770000  126.577438  72.482498  156.770004  31.860001   \n",
       "2020-01-02  31.959999  128.843216  74.059998  158.779999  32.310001   \n",
       "2020-01-03  31.260000  127.686424  74.287498  158.320007  31.709999   \n",
       "2020-01-06  31.160000  127.342255  73.447502  157.080002  31.230000   \n",
       "2020-01-07  31.719999  127.533463  74.959999  159.320007  31.799999   \n",
       "\n",
       "Attributes                   Volume                                     \n",
       "Symbols            IBM         AAPL        MSFT        TWTR        IBM  \n",
       "Date                                                                    \n",
       "2019-12-31  126.701721  100805600.0  18369400.0  11050600.0  3951265.0  \n",
       "2020-01-02  129.063095  135480400.0  22622100.0  10721100.0  3293436.0  \n",
       "2020-01-03  127.695984  146322800.0  21116200.0  14429500.0  2482890.0  \n",
       "2020-01-06  127.552582  118387200.0  20813700.0  12582500.0  2537073.0  \n",
       "2020-01-07  127.810707  108872000.0  21634100.0  13712900.0  3232977.0  \n",
       "\n",
       "[5 rows x 24 columns]"
      ]
     },
     "execution_count": 64,
     "metadata": {},
     "output_type": "execute_result"
    }
   ],
   "source": [
    "data.head()"
   ]
  },
  {
   "cell_type": "code",
   "execution_count": 65,
   "metadata": {},
   "outputs": [],
   "source": [
    "data=data['Adj Close']"
   ]
  },
  {
   "cell_type": "code",
   "execution_count": 66,
   "metadata": {},
   "outputs": [
    {
     "data": {
      "text/html": [
       "<div>\n",
       "<style scoped>\n",
       "    .dataframe tbody tr th:only-of-type {\n",
       "        vertical-align: middle;\n",
       "    }\n",
       "\n",
       "    .dataframe tbody tr th {\n",
       "        vertical-align: top;\n",
       "    }\n",
       "\n",
       "    .dataframe thead th {\n",
       "        text-align: right;\n",
       "    }\n",
       "</style>\n",
       "<table border=\"1\" class=\"dataframe\">\n",
       "  <thead>\n",
       "    <tr style=\"text-align: right;\">\n",
       "      <th>Symbols</th>\n",
       "      <th>AAPL</th>\n",
       "      <th>MSFT</th>\n",
       "      <th>TWTR</th>\n",
       "      <th>IBM</th>\n",
       "    </tr>\n",
       "    <tr>\n",
       "      <th>Date</th>\n",
       "      <th></th>\n",
       "      <th></th>\n",
       "      <th></th>\n",
       "      <th></th>\n",
       "    </tr>\n",
       "  </thead>\n",
       "  <tbody>\n",
       "    <tr>\n",
       "      <th>2019-12-31</th>\n",
       "      <td>72.337990</td>\n",
       "      <td>154.749725</td>\n",
       "      <td>32.049999</td>\n",
       "      <td>115.927086</td>\n",
       "    </tr>\n",
       "    <tr>\n",
       "      <th>2020-01-02</th>\n",
       "      <td>73.988472</td>\n",
       "      <td>157.615128</td>\n",
       "      <td>32.299999</td>\n",
       "      <td>117.120598</td>\n",
       "    </tr>\n",
       "    <tr>\n",
       "      <th>2020-01-03</th>\n",
       "      <td>73.269150</td>\n",
       "      <td>155.652542</td>\n",
       "      <td>31.520000</td>\n",
       "      <td>116.186539</td>\n",
       "    </tr>\n",
       "    <tr>\n",
       "      <th>2020-01-06</th>\n",
       "      <td>73.852989</td>\n",
       "      <td>156.054871</td>\n",
       "      <td>31.639999</td>\n",
       "      <td>115.978973</td>\n",
       "    </tr>\n",
       "    <tr>\n",
       "      <th>2020-01-07</th>\n",
       "      <td>73.505646</td>\n",
       "      <td>154.631989</td>\n",
       "      <td>32.540001</td>\n",
       "      <td>116.056808</td>\n",
       "    </tr>\n",
       "    <tr>\n",
       "      <th>...</th>\n",
       "      <td>...</td>\n",
       "      <td>...</td>\n",
       "      <td>...</td>\n",
       "      <td>...</td>\n",
       "    </tr>\n",
       "    <tr>\n",
       "      <th>2021-12-02</th>\n",
       "      <td>163.759995</td>\n",
       "      <td>329.489990</td>\n",
       "      <td>42.650002</td>\n",
       "      <td>116.900002</td>\n",
       "    </tr>\n",
       "    <tr>\n",
       "      <th>2021-12-03</th>\n",
       "      <td>161.839996</td>\n",
       "      <td>323.010010</td>\n",
       "      <td>42.070000</td>\n",
       "      <td>118.839996</td>\n",
       "    </tr>\n",
       "    <tr>\n",
       "      <th>2021-12-06</th>\n",
       "      <td>165.320007</td>\n",
       "      <td>326.190002</td>\n",
       "      <td>44.470001</td>\n",
       "      <td>119.910004</td>\n",
       "    </tr>\n",
       "    <tr>\n",
       "      <th>2021-12-07</th>\n",
       "      <td>171.179993</td>\n",
       "      <td>334.920013</td>\n",
       "      <td>44.459999</td>\n",
       "      <td>121.580002</td>\n",
       "    </tr>\n",
       "    <tr>\n",
       "      <th>2021-12-08</th>\n",
       "      <td>174.179993</td>\n",
       "      <td>332.325012</td>\n",
       "      <td>45.750000</td>\n",
       "      <td>122.574997</td>\n",
       "    </tr>\n",
       "  </tbody>\n",
       "</table>\n",
       "<p>490 rows × 4 columns</p>\n",
       "</div>"
      ],
      "text/plain": [
       "Symbols           AAPL        MSFT       TWTR         IBM\n",
       "Date                                                     \n",
       "2019-12-31   72.337990  154.749725  32.049999  115.927086\n",
       "2020-01-02   73.988472  157.615128  32.299999  117.120598\n",
       "2020-01-03   73.269150  155.652542  31.520000  116.186539\n",
       "2020-01-06   73.852989  156.054871  31.639999  115.978973\n",
       "2020-01-07   73.505646  154.631989  32.540001  116.056808\n",
       "...                ...         ...        ...         ...\n",
       "2021-12-02  163.759995  329.489990  42.650002  116.900002\n",
       "2021-12-03  161.839996  323.010010  42.070000  118.839996\n",
       "2021-12-06  165.320007  326.190002  44.470001  119.910004\n",
       "2021-12-07  171.179993  334.920013  44.459999  121.580002\n",
       "2021-12-08  174.179993  332.325012  45.750000  122.574997\n",
       "\n",
       "[490 rows x 4 columns]"
      ]
     },
     "execution_count": 66,
     "metadata": {},
     "output_type": "execute_result"
    }
   ],
   "source": [
    "data"
   ]
  },
  {
   "cell_type": "code",
   "execution_count": 113,
   "metadata": {},
   "outputs": [],
   "source": [
    "portfolio = [.25, .15, .40, .20]"
   ]
  },
  {
   "cell_type": "code",
   "execution_count": 114,
   "metadata": {},
   "outputs": [
    {
     "data": {
      "text/plain": [
       "1.0"
      ]
     },
     "execution_count": 114,
     "metadata": {},
     "output_type": "execute_result"
    }
   ],
   "source": [
    "np.sum(portfolio)"
   ]
  },
  {
   "cell_type": "code",
   "execution_count": 115,
   "metadata": {},
   "outputs": [
    {
     "data": {
      "text/plain": [
       "Date\n",
       "2019-12-31    0.000000\n",
       "2020-01-02    0.013549\n",
       "2020-01-03   -0.015701\n",
       "2020-01-06    0.003534\n",
       "2020-01-07    0.008801\n",
       "                ...   \n",
       "2021-12-02   -0.003431\n",
       "2021-12-03   -0.008113\n",
       "2021-12-06    0.030773\n",
       "2021-12-07    0.015346\n",
       "2021-12-08    0.016248\n",
       "Length: 490, dtype: float64"
      ]
     },
     "execution_count": 115,
     "metadata": {},
     "output_type": "execute_result"
    }
   ],
   "source": [
    "np.sum(np.log(data/data.shift())*portfolio, axis=1)"
   ]
  },
  {
   "cell_type": "code",
   "execution_count": 116,
   "metadata": {},
   "outputs": [],
   "source": [
    "log_return=np.sum(np.log(data/data.shift())*portfolio, axis=1)"
   ]
  },
  {
   "cell_type": "code",
   "execution_count": 117,
   "metadata": {},
   "outputs": [
    {
     "data": {
      "text/plain": [
       "Date\n",
       "2019-12-31    0.000000\n",
       "2020-01-02    0.013549\n",
       "2020-01-03   -0.015701\n",
       "2020-01-06    0.003534\n",
       "2020-01-07    0.008801\n",
       "                ...   \n",
       "2021-12-02   -0.003431\n",
       "2021-12-03   -0.008113\n",
       "2021-12-06    0.030773\n",
       "2021-12-07    0.015346\n",
       "2021-12-08    0.016248\n",
       "Length: 490, dtype: float64"
      ]
     },
     "execution_count": 117,
     "metadata": {},
     "output_type": "execute_result"
    }
   ],
   "source": [
    "log_return"
   ]
  },
  {
   "cell_type": "code",
   "execution_count": 118,
   "metadata": {},
   "outputs": [
    {
     "name": "stdout",
     "output_type": "stream",
     "text": [
      "Requirement already satisfied: matplotlib in c:\\users\\damien lim\\anaconda3\\lib\\site-packages (3.3.4)\n",
      "Requirement already satisfied: cycler>=0.10 in c:\\users\\damien lim\\anaconda3\\lib\\site-packages (from matplotlib) (0.10.0)\n",
      "Requirement already satisfied: pillow>=6.2.0 in c:\\users\\damien lim\\anaconda3\\lib\\site-packages (from matplotlib) (8.2.0)\n",
      "Requirement already satisfied: kiwisolver>=1.0.1 in c:\\users\\damien lim\\anaconda3\\lib\\site-packages (from matplotlib) (1.3.1)\n",
      "Requirement already satisfied: pyparsing!=2.0.4,!=2.1.2,!=2.1.6,>=2.0.3 in c:\\users\\damien lim\\anaconda3\\lib\\site-packages (from matplotlib) (2.4.7)\n",
      "Requirement already satisfied: python-dateutil>=2.1 in c:\\users\\damien lim\\anaconda3\\lib\\site-packages (from matplotlib) (2.8.1)\n",
      "Requirement already satisfied: numpy>=1.15 in c:\\users\\damien lim\\anaconda3\\lib\\site-packages (from matplotlib) (1.20.1)\n",
      "Requirement already satisfied: six in c:\\users\\damien lim\\anaconda3\\lib\\site-packages (from cycler>=0.10->matplotlib) (1.15.0)\n"
     ]
    }
   ],
   "source": [
    "!pip install matplotlib"
   ]
  },
  {
   "cell_type": "code",
   "execution_count": 119,
   "metadata": {},
   "outputs": [],
   "source": [
    "import matplotlib.pyplot as plt\n",
    "%matplotlib notebook"
   ]
  },
  {
   "cell_type": "code",
   "execution_count": 120,
   "metadata": {},
   "outputs": [
    {
     "data": {
      "application/javascript": "/* Put everything inside the global mpl namespace */\n/* global mpl */\nwindow.mpl = {};\n\nmpl.get_websocket_type = function () {\n    if (typeof WebSocket !== 'undefined') {\n        return WebSocket;\n    } else if (typeof MozWebSocket !== 'undefined') {\n        return MozWebSocket;\n    } else {\n        alert(\n            'Your browser does not have WebSocket support. ' +\n                'Please try Chrome, Safari or Firefox ≥ 6. ' +\n                'Firefox 4 and 5 are also supported but you ' +\n                'have to enable WebSockets in about:config.'\n        );\n    }\n};\n\nmpl.figure = function (figure_id, websocket, ondownload, parent_element) {\n    this.id = figure_id;\n\n    this.ws = websocket;\n\n    this.supports_binary = this.ws.binaryType !== undefined;\n\n    if (!this.supports_binary) {\n        var warnings = document.getElementById('mpl-warnings');\n        if (warnings) {\n            warnings.style.display = 'block';\n            warnings.textContent =\n                'This browser does not support binary websocket messages. ' +\n                'Performance may be slow.';\n        }\n    }\n\n    this.imageObj = new Image();\n\n    this.context = undefined;\n    this.message = undefined;\n    this.canvas = undefined;\n    this.rubberband_canvas = undefined;\n    this.rubberband_context = undefined;\n    this.format_dropdown = undefined;\n\n    this.image_mode = 'full';\n\n    this.root = document.createElement('div');\n    this.root.setAttribute('style', 'display: inline-block');\n    this._root_extra_style(this.root);\n\n    parent_element.appendChild(this.root);\n\n    this._init_header(this);\n    this._init_canvas(this);\n    this._init_toolbar(this);\n\n    var fig = this;\n\n    this.waiting = false;\n\n    this.ws.onopen = function () {\n        fig.send_message('supports_binary', { value: fig.supports_binary });\n        fig.send_message('send_image_mode', {});\n        if (fig.ratio !== 1) {\n            fig.send_message('set_dpi_ratio', { dpi_ratio: fig.ratio });\n        }\n        fig.send_message('refresh', {});\n    };\n\n    this.imageObj.onload = function () {\n        if (fig.image_mode === 'full') {\n            // Full images could contain transparency (where diff images\n            // almost always do), so we need to clear the canvas so that\n            // there is no ghosting.\n            fig.context.clearRect(0, 0, fig.canvas.width, fig.canvas.height);\n        }\n        fig.context.drawImage(fig.imageObj, 0, 0);\n    };\n\n    this.imageObj.onunload = function () {\n        fig.ws.close();\n    };\n\n    this.ws.onmessage = this._make_on_message_function(this);\n\n    this.ondownload = ondownload;\n};\n\nmpl.figure.prototype._init_header = function () {\n    var titlebar = document.createElement('div');\n    titlebar.classList =\n        'ui-dialog-titlebar ui-widget-header ui-corner-all ui-helper-clearfix';\n    var titletext = document.createElement('div');\n    titletext.classList = 'ui-dialog-title';\n    titletext.setAttribute(\n        'style',\n        'width: 100%; text-align: center; padding: 3px;'\n    );\n    titlebar.appendChild(titletext);\n    this.root.appendChild(titlebar);\n    this.header = titletext;\n};\n\nmpl.figure.prototype._canvas_extra_style = function (_canvas_div) {};\n\nmpl.figure.prototype._root_extra_style = function (_canvas_div) {};\n\nmpl.figure.prototype._init_canvas = function () {\n    var fig = this;\n\n    var canvas_div = (this.canvas_div = document.createElement('div'));\n    canvas_div.setAttribute(\n        'style',\n        'border: 1px solid #ddd;' +\n            'box-sizing: content-box;' +\n            'clear: both;' +\n            'min-height: 1px;' +\n            'min-width: 1px;' +\n            'outline: 0;' +\n            'overflow: hidden;' +\n            'position: relative;' +\n            'resize: both;'\n    );\n\n    function on_keyboard_event_closure(name) {\n        return function (event) {\n            return fig.key_event(event, name);\n        };\n    }\n\n    canvas_div.addEventListener(\n        'keydown',\n        on_keyboard_event_closure('key_press')\n    );\n    canvas_div.addEventListener(\n        'keyup',\n        on_keyboard_event_closure('key_release')\n    );\n\n    this._canvas_extra_style(canvas_div);\n    this.root.appendChild(canvas_div);\n\n    var canvas = (this.canvas = document.createElement('canvas'));\n    canvas.classList.add('mpl-canvas');\n    canvas.setAttribute('style', 'box-sizing: content-box;');\n\n    this.context = canvas.getContext('2d');\n\n    var backingStore =\n        this.context.backingStorePixelRatio ||\n        this.context.webkitBackingStorePixelRatio ||\n        this.context.mozBackingStorePixelRatio ||\n        this.context.msBackingStorePixelRatio ||\n        this.context.oBackingStorePixelRatio ||\n        this.context.backingStorePixelRatio ||\n        1;\n\n    this.ratio = (window.devicePixelRatio || 1) / backingStore;\n\n    var rubberband_canvas = (this.rubberband_canvas = document.createElement(\n        'canvas'\n    ));\n    rubberband_canvas.setAttribute(\n        'style',\n        'box-sizing: content-box; position: absolute; left: 0; top: 0; z-index: 1;'\n    );\n\n    // Apply a ponyfill if ResizeObserver is not implemented by browser.\n    if (this.ResizeObserver === undefined) {\n        if (window.ResizeObserver !== undefined) {\n            this.ResizeObserver = window.ResizeObserver;\n        } else {\n            var obs = _JSXTOOLS_RESIZE_OBSERVER({});\n            this.ResizeObserver = obs.ResizeObserver;\n        }\n    }\n\n    this.resizeObserverInstance = new this.ResizeObserver(function (entries) {\n        var nentries = entries.length;\n        for (var i = 0; i < nentries; i++) {\n            var entry = entries[i];\n            var width, height;\n            if (entry.contentBoxSize) {\n                if (entry.contentBoxSize instanceof Array) {\n                    // Chrome 84 implements new version of spec.\n                    width = entry.contentBoxSize[0].inlineSize;\n                    height = entry.contentBoxSize[0].blockSize;\n                } else {\n                    // Firefox implements old version of spec.\n                    width = entry.contentBoxSize.inlineSize;\n                    height = entry.contentBoxSize.blockSize;\n                }\n            } else {\n                // Chrome <84 implements even older version of spec.\n                width = entry.contentRect.width;\n                height = entry.contentRect.height;\n            }\n\n            // Keep the size of the canvas and rubber band canvas in sync with\n            // the canvas container.\n            if (entry.devicePixelContentBoxSize) {\n                // Chrome 84 implements new version of spec.\n                canvas.setAttribute(\n                    'width',\n                    entry.devicePixelContentBoxSize[0].inlineSize\n                );\n                canvas.setAttribute(\n                    'height',\n                    entry.devicePixelContentBoxSize[0].blockSize\n                );\n            } else {\n                canvas.setAttribute('width', width * fig.ratio);\n                canvas.setAttribute('height', height * fig.ratio);\n            }\n            canvas.setAttribute(\n                'style',\n                'width: ' + width + 'px; height: ' + height + 'px;'\n            );\n\n            rubberband_canvas.setAttribute('width', width);\n            rubberband_canvas.setAttribute('height', height);\n\n            // And update the size in Python. We ignore the initial 0/0 size\n            // that occurs as the element is placed into the DOM, which should\n            // otherwise not happen due to the minimum size styling.\n            if (fig.ws.readyState == 1 && width != 0 && height != 0) {\n                fig.request_resize(width, height);\n            }\n        }\n    });\n    this.resizeObserverInstance.observe(canvas_div);\n\n    function on_mouse_event_closure(name) {\n        return function (event) {\n            return fig.mouse_event(event, name);\n        };\n    }\n\n    rubberband_canvas.addEventListener(\n        'mousedown',\n        on_mouse_event_closure('button_press')\n    );\n    rubberband_canvas.addEventListener(\n        'mouseup',\n        on_mouse_event_closure('button_release')\n    );\n    // Throttle sequential mouse events to 1 every 20ms.\n    rubberband_canvas.addEventListener(\n        'mousemove',\n        on_mouse_event_closure('motion_notify')\n    );\n\n    rubberband_canvas.addEventListener(\n        'mouseenter',\n        on_mouse_event_closure('figure_enter')\n    );\n    rubberband_canvas.addEventListener(\n        'mouseleave',\n        on_mouse_event_closure('figure_leave')\n    );\n\n    canvas_div.addEventListener('wheel', function (event) {\n        if (event.deltaY < 0) {\n            event.step = 1;\n        } else {\n            event.step = -1;\n        }\n        on_mouse_event_closure('scroll')(event);\n    });\n\n    canvas_div.appendChild(canvas);\n    canvas_div.appendChild(rubberband_canvas);\n\n    this.rubberband_context = rubberband_canvas.getContext('2d');\n    this.rubberband_context.strokeStyle = '#000000';\n\n    this._resize_canvas = function (width, height, forward) {\n        if (forward) {\n            canvas_div.style.width = width + 'px';\n            canvas_div.style.height = height + 'px';\n        }\n    };\n\n    // Disable right mouse context menu.\n    this.rubberband_canvas.addEventListener('contextmenu', function (_e) {\n        event.preventDefault();\n        return false;\n    });\n\n    function set_focus() {\n        canvas.focus();\n        canvas_div.focus();\n    }\n\n    window.setTimeout(set_focus, 100);\n};\n\nmpl.figure.prototype._init_toolbar = function () {\n    var fig = this;\n\n    var toolbar = document.createElement('div');\n    toolbar.classList = 'mpl-toolbar';\n    this.root.appendChild(toolbar);\n\n    function on_click_closure(name) {\n        return function (_event) {\n            return fig.toolbar_button_onclick(name);\n        };\n    }\n\n    function on_mouseover_closure(tooltip) {\n        return function (event) {\n            if (!event.currentTarget.disabled) {\n                return fig.toolbar_button_onmouseover(tooltip);\n            }\n        };\n    }\n\n    fig.buttons = {};\n    var buttonGroup = document.createElement('div');\n    buttonGroup.classList = 'mpl-button-group';\n    for (var toolbar_ind in mpl.toolbar_items) {\n        var name = mpl.toolbar_items[toolbar_ind][0];\n        var tooltip = mpl.toolbar_items[toolbar_ind][1];\n        var image = mpl.toolbar_items[toolbar_ind][2];\n        var method_name = mpl.toolbar_items[toolbar_ind][3];\n\n        if (!name) {\n            /* Instead of a spacer, we start a new button group. */\n            if (buttonGroup.hasChildNodes()) {\n                toolbar.appendChild(buttonGroup);\n            }\n            buttonGroup = document.createElement('div');\n            buttonGroup.classList = 'mpl-button-group';\n            continue;\n        }\n\n        var button = (fig.buttons[name] = document.createElement('button'));\n        button.classList = 'mpl-widget';\n        button.setAttribute('role', 'button');\n        button.setAttribute('aria-disabled', 'false');\n        button.addEventListener('click', on_click_closure(method_name));\n        button.addEventListener('mouseover', on_mouseover_closure(tooltip));\n\n        var icon_img = document.createElement('img');\n        icon_img.src = '_images/' + image + '.png';\n        icon_img.srcset = '_images/' + image + '_large.png 2x';\n        icon_img.alt = tooltip;\n        button.appendChild(icon_img);\n\n        buttonGroup.appendChild(button);\n    }\n\n    if (buttonGroup.hasChildNodes()) {\n        toolbar.appendChild(buttonGroup);\n    }\n\n    var fmt_picker = document.createElement('select');\n    fmt_picker.classList = 'mpl-widget';\n    toolbar.appendChild(fmt_picker);\n    this.format_dropdown = fmt_picker;\n\n    for (var ind in mpl.extensions) {\n        var fmt = mpl.extensions[ind];\n        var option = document.createElement('option');\n        option.selected = fmt === mpl.default_extension;\n        option.innerHTML = fmt;\n        fmt_picker.appendChild(option);\n    }\n\n    var status_bar = document.createElement('span');\n    status_bar.classList = 'mpl-message';\n    toolbar.appendChild(status_bar);\n    this.message = status_bar;\n};\n\nmpl.figure.prototype.request_resize = function (x_pixels, y_pixels) {\n    // Request matplotlib to resize the figure. Matplotlib will then trigger a resize in the client,\n    // which will in turn request a refresh of the image.\n    this.send_message('resize', { width: x_pixels, height: y_pixels });\n};\n\nmpl.figure.prototype.send_message = function (type, properties) {\n    properties['type'] = type;\n    properties['figure_id'] = this.id;\n    this.ws.send(JSON.stringify(properties));\n};\n\nmpl.figure.prototype.send_draw_message = function () {\n    if (!this.waiting) {\n        this.waiting = true;\n        this.ws.send(JSON.stringify({ type: 'draw', figure_id: this.id }));\n    }\n};\n\nmpl.figure.prototype.handle_save = function (fig, _msg) {\n    var format_dropdown = fig.format_dropdown;\n    var format = format_dropdown.options[format_dropdown.selectedIndex].value;\n    fig.ondownload(fig, format);\n};\n\nmpl.figure.prototype.handle_resize = function (fig, msg) {\n    var size = msg['size'];\n    if (size[0] !== fig.canvas.width || size[1] !== fig.canvas.height) {\n        fig._resize_canvas(size[0], size[1], msg['forward']);\n        fig.send_message('refresh', {});\n    }\n};\n\nmpl.figure.prototype.handle_rubberband = function (fig, msg) {\n    var x0 = msg['x0'] / fig.ratio;\n    var y0 = (fig.canvas.height - msg['y0']) / fig.ratio;\n    var x1 = msg['x1'] / fig.ratio;\n    var y1 = (fig.canvas.height - msg['y1']) / fig.ratio;\n    x0 = Math.floor(x0) + 0.5;\n    y0 = Math.floor(y0) + 0.5;\n    x1 = Math.floor(x1) + 0.5;\n    y1 = Math.floor(y1) + 0.5;\n    var min_x = Math.min(x0, x1);\n    var min_y = Math.min(y0, y1);\n    var width = Math.abs(x1 - x0);\n    var height = Math.abs(y1 - y0);\n\n    fig.rubberband_context.clearRect(\n        0,\n        0,\n        fig.canvas.width / fig.ratio,\n        fig.canvas.height / fig.ratio\n    );\n\n    fig.rubberband_context.strokeRect(min_x, min_y, width, height);\n};\n\nmpl.figure.prototype.handle_figure_label = function (fig, msg) {\n    // Updates the figure title.\n    fig.header.textContent = msg['label'];\n};\n\nmpl.figure.prototype.handle_cursor = function (fig, msg) {\n    var cursor = msg['cursor'];\n    switch (cursor) {\n        case 0:\n            cursor = 'pointer';\n            break;\n        case 1:\n            cursor = 'default';\n            break;\n        case 2:\n            cursor = 'crosshair';\n            break;\n        case 3:\n            cursor = 'move';\n            break;\n    }\n    fig.rubberband_canvas.style.cursor = cursor;\n};\n\nmpl.figure.prototype.handle_message = function (fig, msg) {\n    fig.message.textContent = msg['message'];\n};\n\nmpl.figure.prototype.handle_draw = function (fig, _msg) {\n    // Request the server to send over a new figure.\n    fig.send_draw_message();\n};\n\nmpl.figure.prototype.handle_image_mode = function (fig, msg) {\n    fig.image_mode = msg['mode'];\n};\n\nmpl.figure.prototype.handle_history_buttons = function (fig, msg) {\n    for (var key in msg) {\n        if (!(key in fig.buttons)) {\n            continue;\n        }\n        fig.buttons[key].disabled = !msg[key];\n        fig.buttons[key].setAttribute('aria-disabled', !msg[key]);\n    }\n};\n\nmpl.figure.prototype.handle_navigate_mode = function (fig, msg) {\n    if (msg['mode'] === 'PAN') {\n        fig.buttons['Pan'].classList.add('active');\n        fig.buttons['Zoom'].classList.remove('active');\n    } else if (msg['mode'] === 'ZOOM') {\n        fig.buttons['Pan'].classList.remove('active');\n        fig.buttons['Zoom'].classList.add('active');\n    } else {\n        fig.buttons['Pan'].classList.remove('active');\n        fig.buttons['Zoom'].classList.remove('active');\n    }\n};\n\nmpl.figure.prototype.updated_canvas_event = function () {\n    // Called whenever the canvas gets updated.\n    this.send_message('ack', {});\n};\n\n// A function to construct a web socket function for onmessage handling.\n// Called in the figure constructor.\nmpl.figure.prototype._make_on_message_function = function (fig) {\n    return function socket_on_message(evt) {\n        if (evt.data instanceof Blob) {\n            /* FIXME: We get \"Resource interpreted as Image but\n             * transferred with MIME type text/plain:\" errors on\n             * Chrome.  But how to set the MIME type?  It doesn't seem\n             * to be part of the websocket stream */\n            evt.data.type = 'image/png';\n\n            /* Free the memory for the previous frames */\n            if (fig.imageObj.src) {\n                (window.URL || window.webkitURL).revokeObjectURL(\n                    fig.imageObj.src\n                );\n            }\n\n            fig.imageObj.src = (window.URL || window.webkitURL).createObjectURL(\n                evt.data\n            );\n            fig.updated_canvas_event();\n            fig.waiting = false;\n            return;\n        } else if (\n            typeof evt.data === 'string' &&\n            evt.data.slice(0, 21) === 'data:image/png;base64'\n        ) {\n            fig.imageObj.src = evt.data;\n            fig.updated_canvas_event();\n            fig.waiting = false;\n            return;\n        }\n\n        var msg = JSON.parse(evt.data);\n        var msg_type = msg['type'];\n\n        // Call the  \"handle_{type}\" callback, which takes\n        // the figure and JSON message as its only arguments.\n        try {\n            var callback = fig['handle_' + msg_type];\n        } catch (e) {\n            console.log(\n                \"No handler for the '\" + msg_type + \"' message type: \",\n                msg\n            );\n            return;\n        }\n\n        if (callback) {\n            try {\n                // console.log(\"Handling '\" + msg_type + \"' message: \", msg);\n                callback(fig, msg);\n            } catch (e) {\n                console.log(\n                    \"Exception inside the 'handler_\" + msg_type + \"' callback:\",\n                    e,\n                    e.stack,\n                    msg\n                );\n            }\n        }\n    };\n};\n\n// from http://stackoverflow.com/questions/1114465/getting-mouse-location-in-canvas\nmpl.findpos = function (e) {\n    //this section is from http://www.quirksmode.org/js/events_properties.html\n    var targ;\n    if (!e) {\n        e = window.event;\n    }\n    if (e.target) {\n        targ = e.target;\n    } else if (e.srcElement) {\n        targ = e.srcElement;\n    }\n    if (targ.nodeType === 3) {\n        // defeat Safari bug\n        targ = targ.parentNode;\n    }\n\n    // pageX,Y are the mouse positions relative to the document\n    var boundingRect = targ.getBoundingClientRect();\n    var x = e.pageX - (boundingRect.left + document.body.scrollLeft);\n    var y = e.pageY - (boundingRect.top + document.body.scrollTop);\n\n    return { x: x, y: y };\n};\n\n/*\n * return a copy of an object with only non-object keys\n * we need this to avoid circular references\n * http://stackoverflow.com/a/24161582/3208463\n */\nfunction simpleKeys(original) {\n    return Object.keys(original).reduce(function (obj, key) {\n        if (typeof original[key] !== 'object') {\n            obj[key] = original[key];\n        }\n        return obj;\n    }, {});\n}\n\nmpl.figure.prototype.mouse_event = function (event, name) {\n    var canvas_pos = mpl.findpos(event);\n\n    if (name === 'button_press') {\n        this.canvas.focus();\n        this.canvas_div.focus();\n    }\n\n    var x = canvas_pos.x * this.ratio;\n    var y = canvas_pos.y * this.ratio;\n\n    this.send_message(name, {\n        x: x,\n        y: y,\n        button: event.button,\n        step: event.step,\n        guiEvent: simpleKeys(event),\n    });\n\n    /* This prevents the web browser from automatically changing to\n     * the text insertion cursor when the button is pressed.  We want\n     * to control all of the cursor setting manually through the\n     * 'cursor' event from matplotlib */\n    event.preventDefault();\n    return false;\n};\n\nmpl.figure.prototype._key_event_extra = function (_event, _name) {\n    // Handle any extra behaviour associated with a key event\n};\n\nmpl.figure.prototype.key_event = function (event, name) {\n    // Prevent repeat events\n    if (name === 'key_press') {\n        if (event.which === this._key) {\n            return;\n        } else {\n            this._key = event.which;\n        }\n    }\n    if (name === 'key_release') {\n        this._key = null;\n    }\n\n    var value = '';\n    if (event.ctrlKey && event.which !== 17) {\n        value += 'ctrl+';\n    }\n    if (event.altKey && event.which !== 18) {\n        value += 'alt+';\n    }\n    if (event.shiftKey && event.which !== 16) {\n        value += 'shift+';\n    }\n\n    value += 'k';\n    value += event.which.toString();\n\n    this._key_event_extra(event, name);\n\n    this.send_message(name, { key: value, guiEvent: simpleKeys(event) });\n    return false;\n};\n\nmpl.figure.prototype.toolbar_button_onclick = function (name) {\n    if (name === 'download') {\n        this.handle_save(this, null);\n    } else {\n        this.send_message('toolbar_button', { name: name });\n    }\n};\n\nmpl.figure.prototype.toolbar_button_onmouseover = function (tooltip) {\n    this.message.textContent = tooltip;\n};\n\n///////////////// REMAINING CONTENT GENERATED BY embed_js.py /////////////////\n// prettier-ignore\nvar _JSXTOOLS_RESIZE_OBSERVER=function(A){var t,i=new WeakMap,n=new WeakMap,a=new WeakMap,r=new WeakMap,o=new Set;function s(e){if(!(this instanceof s))throw new TypeError(\"Constructor requires 'new' operator\");i.set(this,e)}function h(){throw new TypeError(\"Function is not a constructor\")}function c(e,t,i,n){e=0 in arguments?Number(arguments[0]):0,t=1 in arguments?Number(arguments[1]):0,i=2 in arguments?Number(arguments[2]):0,n=3 in arguments?Number(arguments[3]):0,this.right=(this.x=this.left=e)+(this.width=i),this.bottom=(this.y=this.top=t)+(this.height=n),Object.freeze(this)}function d(){t=requestAnimationFrame(d);var s=new WeakMap,p=new Set;o.forEach((function(t){r.get(t).forEach((function(i){var r=t instanceof window.SVGElement,o=a.get(t),d=r?0:parseFloat(o.paddingTop),f=r?0:parseFloat(o.paddingRight),l=r?0:parseFloat(o.paddingBottom),u=r?0:parseFloat(o.paddingLeft),g=r?0:parseFloat(o.borderTopWidth),m=r?0:parseFloat(o.borderRightWidth),w=r?0:parseFloat(o.borderBottomWidth),b=u+f,F=d+l,v=(r?0:parseFloat(o.borderLeftWidth))+m,W=g+w,y=r?0:t.offsetHeight-W-t.clientHeight,E=r?0:t.offsetWidth-v-t.clientWidth,R=b+v,z=F+W,M=r?t.width:parseFloat(o.width)-R-E,O=r?t.height:parseFloat(o.height)-z-y;if(n.has(t)){var k=n.get(t);if(k[0]===M&&k[1]===O)return}n.set(t,[M,O]);var S=Object.create(h.prototype);S.target=t,S.contentRect=new c(u,d,M,O),s.has(i)||(s.set(i,[]),p.add(i)),s.get(i).push(S)}))})),p.forEach((function(e){i.get(e).call(e,s.get(e),e)}))}return s.prototype.observe=function(i){if(i instanceof window.Element){r.has(i)||(r.set(i,new Set),o.add(i),a.set(i,window.getComputedStyle(i)));var n=r.get(i);n.has(this)||n.add(this),cancelAnimationFrame(t),t=requestAnimationFrame(d)}},s.prototype.unobserve=function(i){if(i instanceof window.Element&&r.has(i)){var n=r.get(i);n.has(this)&&(n.delete(this),n.size||(r.delete(i),o.delete(i))),n.size||r.delete(i),o.size||cancelAnimationFrame(t)}},A.DOMRectReadOnly=c,A.ResizeObserver=s,A.ResizeObserverEntry=h,A}; // eslint-disable-line\nmpl.toolbar_items = [[\"Home\", \"Reset original view\", \"fa fa-home icon-home\", \"home\"], [\"Back\", \"Back to previous view\", \"fa fa-arrow-left icon-arrow-left\", \"back\"], [\"Forward\", \"Forward to next view\", \"fa fa-arrow-right icon-arrow-right\", \"forward\"], [\"\", \"\", \"\", \"\"], [\"Pan\", \"Left button pans, Right button zooms\\nx/y fixes axis, CTRL fixes aspect\", \"fa fa-arrows icon-move\", \"pan\"], [\"Zoom\", \"Zoom to rectangle\\nx/y fixes axis, CTRL fixes aspect\", \"fa fa-square-o icon-check-empty\", \"zoom\"], [\"\", \"\", \"\", \"\"], [\"Download\", \"Download plot\", \"fa fa-floppy-o icon-save\", \"download\"]];\n\nmpl.extensions = [\"eps\", \"jpeg\", \"pdf\", \"png\", \"ps\", \"raw\", \"svg\", \"tif\"];\n\nmpl.default_extension = \"png\";/* global mpl */\n\nvar comm_websocket_adapter = function (comm) {\n    // Create a \"websocket\"-like object which calls the given IPython comm\n    // object with the appropriate methods. Currently this is a non binary\n    // socket, so there is still some room for performance tuning.\n    var ws = {};\n\n    ws.close = function () {\n        comm.close();\n    };\n    ws.send = function (m) {\n        //console.log('sending', m);\n        comm.send(m);\n    };\n    // Register the callback with on_msg.\n    comm.on_msg(function (msg) {\n        //console.log('receiving', msg['content']['data'], msg);\n        // Pass the mpl event to the overridden (by mpl) onmessage function.\n        ws.onmessage(msg['content']['data']);\n    });\n    return ws;\n};\n\nmpl.mpl_figure_comm = function (comm, msg) {\n    // This is the function which gets called when the mpl process\n    // starts-up an IPython Comm through the \"matplotlib\" channel.\n\n    var id = msg.content.data.id;\n    // Get hold of the div created by the display call when the Comm\n    // socket was opened in Python.\n    var element = document.getElementById(id);\n    var ws_proxy = comm_websocket_adapter(comm);\n\n    function ondownload(figure, _format) {\n        window.open(figure.canvas.toDataURL());\n    }\n\n    var fig = new mpl.figure(id, ws_proxy, ondownload, element);\n\n    // Call onopen now - mpl needs it, as it is assuming we've passed it a real\n    // web socket which is closed, not our websocket->open comm proxy.\n    ws_proxy.onopen();\n\n    fig.parent_element = element;\n    fig.cell_info = mpl.find_output_cell(\"<div id='\" + id + \"'></div>\");\n    if (!fig.cell_info) {\n        console.error('Failed to find cell for figure', id, fig);\n        return;\n    }\n    fig.cell_info[0].output_area.element.on(\n        'cleared',\n        { fig: fig },\n        fig._remove_fig_handler\n    );\n};\n\nmpl.figure.prototype.handle_close = function (fig, msg) {\n    var width = fig.canvas.width / fig.ratio;\n    fig.cell_info[0].output_area.element.off(\n        'cleared',\n        fig._remove_fig_handler\n    );\n    fig.resizeObserverInstance.unobserve(fig.canvas_div);\n\n    // Update the output cell to use the data from the current canvas.\n    fig.push_to_output();\n    var dataURL = fig.canvas.toDataURL();\n    // Re-enable the keyboard manager in IPython - without this line, in FF,\n    // the notebook keyboard shortcuts fail.\n    IPython.keyboard_manager.enable();\n    fig.parent_element.innerHTML =\n        '<img src=\"' + dataURL + '\" width=\"' + width + '\">';\n    fig.close_ws(fig, msg);\n};\n\nmpl.figure.prototype.close_ws = function (fig, msg) {\n    fig.send_message('closing', msg);\n    // fig.ws.close()\n};\n\nmpl.figure.prototype.push_to_output = function (_remove_interactive) {\n    // Turn the data on the canvas into data in the output cell.\n    var width = this.canvas.width / this.ratio;\n    var dataURL = this.canvas.toDataURL();\n    this.cell_info[1]['text/html'] =\n        '<img src=\"' + dataURL + '\" width=\"' + width + '\">';\n};\n\nmpl.figure.prototype.updated_canvas_event = function () {\n    // Tell IPython that the notebook contents must change.\n    IPython.notebook.set_dirty(true);\n    this.send_message('ack', {});\n    var fig = this;\n    // Wait a second, then push the new image to the DOM so\n    // that it is saved nicely (might be nice to debounce this).\n    setTimeout(function () {\n        fig.push_to_output();\n    }, 1000);\n};\n\nmpl.figure.prototype._init_toolbar = function () {\n    var fig = this;\n\n    var toolbar = document.createElement('div');\n    toolbar.classList = 'btn-toolbar';\n    this.root.appendChild(toolbar);\n\n    function on_click_closure(name) {\n        return function (_event) {\n            return fig.toolbar_button_onclick(name);\n        };\n    }\n\n    function on_mouseover_closure(tooltip) {\n        return function (event) {\n            if (!event.currentTarget.disabled) {\n                return fig.toolbar_button_onmouseover(tooltip);\n            }\n        };\n    }\n\n    fig.buttons = {};\n    var buttonGroup = document.createElement('div');\n    buttonGroup.classList = 'btn-group';\n    var button;\n    for (var toolbar_ind in mpl.toolbar_items) {\n        var name = mpl.toolbar_items[toolbar_ind][0];\n        var tooltip = mpl.toolbar_items[toolbar_ind][1];\n        var image = mpl.toolbar_items[toolbar_ind][2];\n        var method_name = mpl.toolbar_items[toolbar_ind][3];\n\n        if (!name) {\n            /* Instead of a spacer, we start a new button group. */\n            if (buttonGroup.hasChildNodes()) {\n                toolbar.appendChild(buttonGroup);\n            }\n            buttonGroup = document.createElement('div');\n            buttonGroup.classList = 'btn-group';\n            continue;\n        }\n\n        button = fig.buttons[name] = document.createElement('button');\n        button.classList = 'btn btn-default';\n        button.href = '#';\n        button.title = name;\n        button.innerHTML = '<i class=\"fa ' + image + ' fa-lg\"></i>';\n        button.addEventListener('click', on_click_closure(method_name));\n        button.addEventListener('mouseover', on_mouseover_closure(tooltip));\n        buttonGroup.appendChild(button);\n    }\n\n    if (buttonGroup.hasChildNodes()) {\n        toolbar.appendChild(buttonGroup);\n    }\n\n    // Add the status bar.\n    var status_bar = document.createElement('span');\n    status_bar.classList = 'mpl-message pull-right';\n    toolbar.appendChild(status_bar);\n    this.message = status_bar;\n\n    // Add the close button to the window.\n    var buttongrp = document.createElement('div');\n    buttongrp.classList = 'btn-group inline pull-right';\n    button = document.createElement('button');\n    button.classList = 'btn btn-mini btn-primary';\n    button.href = '#';\n    button.title = 'Stop Interaction';\n    button.innerHTML = '<i class=\"fa fa-power-off icon-remove icon-large\"></i>';\n    button.addEventListener('click', function (_evt) {\n        fig.handle_close(fig, {});\n    });\n    button.addEventListener(\n        'mouseover',\n        on_mouseover_closure('Stop Interaction')\n    );\n    buttongrp.appendChild(button);\n    var titlebar = this.root.querySelector('.ui-dialog-titlebar');\n    titlebar.insertBefore(buttongrp, titlebar.firstChild);\n};\n\nmpl.figure.prototype._remove_fig_handler = function (event) {\n    var fig = event.data.fig;\n    if (event.target !== this) {\n        // Ignore bubbled events from children.\n        return;\n    }\n    fig.close_ws(fig, {});\n};\n\nmpl.figure.prototype._root_extra_style = function (el) {\n    el.style.boxSizing = 'content-box'; // override notebook setting of border-box.\n};\n\nmpl.figure.prototype._canvas_extra_style = function (el) {\n    // this is important to make the div 'focusable\n    el.setAttribute('tabindex', 0);\n    // reach out to IPython and tell the keyboard manager to turn it's self\n    // off when our div gets focus\n\n    // location in version 3\n    if (IPython.notebook.keyboard_manager) {\n        IPython.notebook.keyboard_manager.register_events(el);\n    } else {\n        // location in version 2\n        IPython.keyboard_manager.register_events(el);\n    }\n};\n\nmpl.figure.prototype._key_event_extra = function (event, _name) {\n    var manager = IPython.notebook.keyboard_manager;\n    if (!manager) {\n        manager = IPython.keyboard_manager;\n    }\n\n    // Check for shift+enter\n    if (event.shiftKey && event.which === 13) {\n        this.canvas_div.blur();\n        // select the cell after this one\n        var index = IPython.notebook.find_cell_index(this.cell_info[0]);\n        IPython.notebook.select(index + 1);\n    }\n};\n\nmpl.figure.prototype.handle_save = function (fig, _msg) {\n    fig.ondownload(fig, null);\n};\n\nmpl.find_output_cell = function (html_output) {\n    // Return the cell and output element which can be found *uniquely* in the notebook.\n    // Note - this is a bit hacky, but it is done because the \"notebook_saving.Notebook\"\n    // IPython event is triggered only after the cells have been serialised, which for\n    // our purposes (turning an active figure into a static one), is too late.\n    var cells = IPython.notebook.get_cells();\n    var ncells = cells.length;\n    for (var i = 0; i < ncells; i++) {\n        var cell = cells[i];\n        if (cell.cell_type === 'code') {\n            for (var j = 0; j < cell.output_area.outputs.length; j++) {\n                var data = cell.output_area.outputs[j];\n                if (data.data) {\n                    // IPython >= 3 moved mimebundle to data attribute of output\n                    data = data.data;\n                }\n                if (data['text/html'] === html_output) {\n                    return [cell, data, j];\n                }\n            }\n        }\n    }\n};\n\n// Register the function which deals with the matplotlib target/channel.\n// The kernel may be null if the page has been refreshed.\nif (IPython.notebook.kernel !== null) {\n    IPython.notebook.kernel.comm_manager.register_target(\n        'matplotlib',\n        mpl.mpl_figure_comm\n    );\n}\n",
      "text/plain": [
       "<IPython.core.display.Javascript object>"
      ]
     },
     "metadata": {},
     "output_type": "display_data"
    },
    {
     "data": {
      "text/html": [
       "<img src=\"data:image/png;base64,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\" width=\"640\">"
      ],
      "text/plain": [
       "<IPython.core.display.HTML object>"
      ]
     },
     "metadata": {},
     "output_type": "display_data"
    },
    {
     "data": {
      "text/plain": [
       "<AxesSubplot:>"
      ]
     },
     "execution_count": 120,
     "metadata": {},
     "output_type": "execute_result"
    }
   ],
   "source": [
    "fig, ax = plt.subplots()\n",
    "log_return.hist(bins=50, ax=ax)"
   ]
  },
  {
   "cell_type": "code",
   "execution_count": 121,
   "metadata": {},
   "outputs": [
    {
     "data": {
      "text/plain": [
       "0.02225860946974574"
      ]
     },
     "execution_count": 121,
     "metadata": {},
     "output_type": "execute_result"
    }
   ],
   "source": [
    "log_return.std()"
   ]
  },
  {
   "cell_type": "code",
   "execution_count": 122,
   "metadata": {},
   "outputs": [
    {
     "data": {
      "text/plain": [
       "0.0009955934048357753"
      ]
     },
     "execution_count": 122,
     "metadata": {},
     "output_type": "execute_result"
    }
   ],
   "source": [
    "log_return.mean()"
   ]
  },
  {
   "cell_type": "code",
   "execution_count": 123,
   "metadata": {},
   "outputs": [],
   "source": [
    "sharpe_ratio=log_return.mean()/log_return.std()"
   ]
  },
  {
   "cell_type": "code",
   "execution_count": 124,
   "metadata": {},
   "outputs": [
    {
     "data": {
      "text/plain": [
       "0.04472846366207205"
      ]
     },
     "execution_count": 124,
     "metadata": {},
     "output_type": "execute_result"
    }
   ],
   "source": [
    "sharpe_ratio"
   ]
  },
  {
   "cell_type": "code",
   "execution_count": 125,
   "metadata": {},
   "outputs": [],
   "source": [
    "asr=sharpe_ratio*252**.5"
   ]
  },
  {
   "cell_type": "code",
   "execution_count": 126,
   "metadata": {},
   "outputs": [
    {
     "data": {
      "text/plain": [
       "0.7100423482549922"
      ]
     },
     "execution_count": 126,
     "metadata": {},
     "output_type": "execute_result"
    }
   ],
   "source": [
    "asr"
   ]
  },
  {
   "cell_type": "code",
   "execution_count": 127,
   "metadata": {},
   "outputs": [
    {
     "data": {
      "text/plain": [
       "array([0.22360828, 0.16397739, 0.2264826 , 0.38593173])"
      ]
     },
     "execution_count": 127,
     "metadata": {},
     "output_type": "execute_result"
    }
   ],
   "source": [
    "weight=np.random.random(4)\n",
    "weight /= weight.sum()\n",
    "weight"
   ]
  },
  {
   "cell_type": "code",
   "execution_count": 134,
   "metadata": {},
   "outputs": [],
   "source": [
    "log_return2=np.sum(np.log(data/data.shift())*weight, axis=1)"
   ]
  },
  {
   "cell_type": "code",
   "execution_count": 135,
   "metadata": {},
   "outputs": [],
   "source": [
    "sharpe_ratio2=log_return2.mean()/log_return2.std()"
   ]
  },
  {
   "cell_type": "code",
   "execution_count": 136,
   "metadata": {},
   "outputs": [],
   "source": [
    "asr2=sharpe_ratio2*252**.5"
   ]
  },
  {
   "cell_type": "code",
   "execution_count": 137,
   "metadata": {},
   "outputs": [
    {
     "data": {
      "text/plain": [
       "0.6993229823826902"
      ]
     },
     "execution_count": 137,
     "metadata": {},
     "output_type": "execute_result"
    }
   ],
   "source": [
    "asr2"
   ]
  },
  {
   "cell_type": "code",
   "execution_count": null,
   "metadata": {},
   "outputs": [],
   "source": []
  },
  {
   "cell_type": "code",
   "execution_count": null,
   "metadata": {},
   "outputs": [],
   "source": []
  }
 ],
 "metadata": {
  "interpreter": {
   "hash": "713d2dae5854f516c149c886991baabc19edbc6be2b4756b048852dc2a9089dd"
  },
  "kernelspec": {
   "display_name": "Python 3",
   "language": "python",
   "name": "python3"
  },
  "language_info": {
   "codemirror_mode": {
    "name": "ipython",
    "version": 3
   },
   "file_extension": ".py",
   "mimetype": "text/x-python",
   "name": "python",
   "nbconvert_exporter": "python",
   "pygments_lexer": "ipython3",
   "version": "3.10.0"
  }
 },
 "nbformat": 4,
 "nbformat_minor": 2
}
