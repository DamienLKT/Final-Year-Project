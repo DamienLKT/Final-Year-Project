{
 "cells": [
  {
   "cell_type": "code",
   "execution_count": 1,
   "id": "d7950966",
   "metadata": {},
   "outputs": [
    {
     "name": "stdout",
     "output_type": "stream",
     "text": [
      "Requirement already satisfied: pandas-datareader in c:\\users\\damien lim\\anaconda3\\lib\\site-packages (0.10.0)\n",
      "Requirement already satisfied: lxml in c:\\users\\damien lim\\anaconda3\\lib\\site-packages (from pandas-datareader) (4.6.3)\n",
      "Requirement already satisfied: pandas>=0.23 in c:\\users\\damien lim\\anaconda3\\lib\\site-packages (from pandas-datareader) (1.2.4)\n",
      "Requirement already satisfied: requests>=2.19.0 in c:\\users\\damien lim\\anaconda3\\lib\\site-packages (from pandas-datareader) (2.25.1)\n",
      "Requirement already satisfied: pytz>=2017.3 in c:\\users\\damien lim\\anaconda3\\lib\\site-packages (from pandas>=0.23->pandas-datareader) (2021.1)\n",
      "Requirement already satisfied: python-dateutil>=2.7.3 in c:\\users\\damien lim\\anaconda3\\lib\\site-packages (from pandas>=0.23->pandas-datareader) (2.8.1)\n",
      "Requirement already satisfied: numpy>=1.16.5 in c:\\users\\damien lim\\anaconda3\\lib\\site-packages (from pandas>=0.23->pandas-datareader) (1.20.1)\n",
      "Requirement already satisfied: six>=1.5 in c:\\users\\damien lim\\anaconda3\\lib\\site-packages (from python-dateutil>=2.7.3->pandas>=0.23->pandas-datareader) (1.15.0)\n",
      "Requirement already satisfied: chardet<5,>=3.0.2 in c:\\users\\damien lim\\anaconda3\\lib\\site-packages (from requests>=2.19.0->pandas-datareader) (4.0.0)\n",
      "Requirement already satisfied: urllib3<1.27,>=1.21.1 in c:\\users\\damien lim\\anaconda3\\lib\\site-packages (from requests>=2.19.0->pandas-datareader) (1.26.4)\n",
      "Requirement already satisfied: idna<3,>=2.5 in c:\\users\\damien lim\\anaconda3\\lib\\site-packages (from requests>=2.19.0->pandas-datareader) (2.10)\n",
      "Requirement already satisfied: certifi>=2017.4.17 in c:\\users\\damien lim\\anaconda3\\lib\\site-packages (from requests>=2.19.0->pandas-datareader) (2020.12.5)\n"
     ]
    }
   ],
   "source": [
    "!pip install pandas-datareader"
   ]
  },
  {
   "cell_type": "code",
   "execution_count": 2,
   "id": "a8bbdf0f",
   "metadata": {},
   "outputs": [],
   "source": [
    "import numpy as np\n",
    "import pandas as pd\n",
    "from datetime import datetime, timedelta\n",
    "import time\n",
    "import random\n",
    "from tqdm import tqdm\n",
    "from pandas_datareader import data\n",
    "from scipy.stats import zscore\n",
    "import matplotlib.pyplot as plt"
   ]
  },
  {
   "cell_type": "code",
   "execution_count": 3,
   "id": "a9c0f0e6",
   "metadata": {},
   "outputs": [
    {
     "name": "stdout",
     "output_type": "stream",
     "text": [
      "Requirement already satisfied: yahoo-fin in c:\\users\\damien lim\\anaconda3\\lib\\site-packages (0.8.9.1)\n",
      "Requirement already satisfied: feedparser in c:\\users\\damien lim\\anaconda3\\lib\\site-packages (from yahoo-fin) (6.0.8)\n",
      "Requirement already satisfied: requests-html in c:\\users\\damien lim\\anaconda3\\lib\\site-packages (from yahoo-fin) (0.10.0)\n",
      "Requirement already satisfied: requests in c:\\users\\damien lim\\anaconda3\\lib\\site-packages (from yahoo-fin) (2.25.1)\n",
      "Requirement already satisfied: pandas in c:\\users\\damien lim\\anaconda3\\lib\\site-packages (from yahoo-fin) (1.2.4)\n",
      "Requirement already satisfied: sgmllib3k in c:\\users\\damien lim\\anaconda3\\lib\\site-packages (from feedparser->yahoo-fin) (1.0.0)\n",
      "Requirement already satisfied: numpy>=1.16.5 in c:\\users\\damien lim\\anaconda3\\lib\\site-packages (from pandas->yahoo-fin) (1.20.1)\n",
      "Requirement already satisfied: python-dateutil>=2.7.3 in c:\\users\\damien lim\\anaconda3\\lib\\site-packages (from pandas->yahoo-fin) (2.8.1)\n",
      "Requirement already satisfied: pytz>=2017.3 in c:\\users\\damien lim\\anaconda3\\lib\\site-packages (from pandas->yahoo-fin) (2021.1)\n",
      "Requirement already satisfied: six>=1.5 in c:\\users\\damien lim\\anaconda3\\lib\\site-packages (from python-dateutil>=2.7.3->pandas->yahoo-fin) (1.15.0)\n",
      "Requirement already satisfied: chardet<5,>=3.0.2 in c:\\users\\damien lim\\anaconda3\\lib\\site-packages (from requests->yahoo-fin) (4.0.0)\n",
      "Requirement already satisfied: idna<3,>=2.5 in c:\\users\\damien lim\\anaconda3\\lib\\site-packages (from requests->yahoo-fin) (2.10)\n",
      "Requirement already satisfied: certifi>=2017.4.17 in c:\\users\\damien lim\\anaconda3\\lib\\site-packages (from requests->yahoo-fin) (2020.12.5)\n",
      "Requirement already satisfied: urllib3<1.27,>=1.21.1 in c:\\users\\damien lim\\anaconda3\\lib\\site-packages (from requests->yahoo-fin) (1.26.4)\n",
      "Requirement already satisfied: fake-useragent in c:\\users\\damien lim\\anaconda3\\lib\\site-packages (from requests-html->yahoo-fin) (0.1.11)\n",
      "Requirement already satisfied: w3lib in c:\\users\\damien lim\\anaconda3\\lib\\site-packages (from requests-html->yahoo-fin) (1.22.0)\n",
      "Requirement already satisfied: pyppeteer>=0.0.14 in c:\\users\\damien lim\\anaconda3\\lib\\site-packages (from requests-html->yahoo-fin) (0.2.6)\n",
      "Requirement already satisfied: pyquery in c:\\users\\damien lim\\anaconda3\\lib\\site-packages (from requests-html->yahoo-fin) (1.4.3)\n",
      "Requirement already satisfied: parse in c:\\users\\damien lim\\anaconda3\\lib\\site-packages (from requests-html->yahoo-fin) (1.19.0)\n",
      "Requirement already satisfied: bs4 in c:\\users\\damien lim\\anaconda3\\lib\\site-packages (from requests-html->yahoo-fin) (0.0.1)\n",
      "Requirement already satisfied: pyee<9.0.0,>=8.1.0 in c:\\users\\damien lim\\anaconda3\\lib\\site-packages (from pyppeteer>=0.0.14->requests-html->yahoo-fin) (8.2.2)\n",
      "Requirement already satisfied: appdirs<2.0.0,>=1.4.3 in c:\\users\\damien lim\\anaconda3\\lib\\site-packages (from pyppeteer>=0.0.14->requests-html->yahoo-fin) (1.4.4)\n",
      "Requirement already satisfied: websockets<10.0,>=9.1 in c:\\users\\damien lim\\anaconda3\\lib\\site-packages (from pyppeteer>=0.0.14->requests-html->yahoo-fin) (9.1)\n",
      "Requirement already satisfied: tqdm<5.0.0,>=4.42.1 in c:\\users\\damien lim\\anaconda3\\lib\\site-packages (from pyppeteer>=0.0.14->requests-html->yahoo-fin) (4.59.0)\n",
      "Requirement already satisfied: importlib-metadata>=1.4 in c:\\users\\damien lim\\anaconda3\\lib\\site-packages (from pyppeteer>=0.0.14->requests-html->yahoo-fin) (3.10.0)\n",
      "Requirement already satisfied: zipp>=0.5 in c:\\users\\damien lim\\anaconda3\\lib\\site-packages (from importlib-metadata>=1.4->pyppeteer>=0.0.14->requests-html->yahoo-fin) (3.4.1)\n",
      "Requirement already satisfied: beautifulsoup4 in c:\\users\\damien lim\\anaconda3\\lib\\site-packages (from bs4->requests-html->yahoo-fin) (4.9.3)\n",
      "Requirement already satisfied: soupsieve>1.2 in c:\\users\\damien lim\\anaconda3\\lib\\site-packages (from beautifulsoup4->bs4->requests-html->yahoo-fin) (2.2.1)\n",
      "Requirement already satisfied: lxml>=2.1 in c:\\users\\damien lim\\anaconda3\\lib\\site-packages (from pyquery->requests-html->yahoo-fin) (4.6.3)\n",
      "Requirement already satisfied: cssselect>0.7.9 in c:\\users\\damien lim\\anaconda3\\lib\\site-packages (from pyquery->requests-html->yahoo-fin) (1.1.0)\n"
     ]
    }
   ],
   "source": [
    "!pip install yahoo-fin"
   ]
  },
  {
   "cell_type": "code",
   "execution_count": null,
   "id": "f8114d54",
   "metadata": {},
   "outputs": [],
   "source": [
    "import yahoo_fin.stock_info as yf"
   ]
  },
  {
   "cell_type": "code",
   "execution_count": null,
   "id": "f8023aa7",
   "metadata": {},
   "outputs": [],
   "source": [
    "balance_sheet = []\n",
    "income_statement = []\n",
    "cfs = []\n",
    "years = []"
   ]
  },
  {
   "cell_type": "code",
   "execution_count": null,
   "id": "06f877bb",
   "metadata": {},
   "outputs": [],
   "source": [
    "def get_data(ticker):\n",
    "    global balance_sheet\n",
    "    global income_statement\n",
    "    global cfs\n",
    "    global years\n",
    "    balance_sheet=yf.get_balance_sheet(ticker)\n",
    "    income_statement=yf.get_income_statement(ticker)\n",
    "    cfs=yf.get_cash_flow(ticker)\n",
    "    years=balance_sheet.columns"
   ]
  },
  {
   "cell_type": "markdown",
   "id": "d713ecbc",
   "metadata": {},
   "source": [
    "## Testing for individual stock"
   ]
  },
  {
   "cell_type": "code",
   "execution_count": null,
   "id": "9dc2a603",
   "metadata": {},
   "outputs": [],
   "source": [
    "get_data('C09.SI')"
   ]
  },
  {
   "cell_type": "code",
   "execution_count": null,
   "id": "a5a276c7",
   "metadata": {},
   "outputs": [],
   "source": [
    "income_statement"
   ]
  },
  {
   "cell_type": "markdown",
   "id": "d664675a",
   "metadata": {},
   "source": [
    "# Piotroski-F-Score"
   ]
  },
  {
   "cell_type": "code",
   "execution_count": null,
   "id": "f042aaca",
   "metadata": {},
   "outputs": [],
   "source": [
    "balance_sheet = []\n",
    "income_statement = []\n",
    "cfs = []\n",
    "years = []\n",
    "profitability_score=0\n",
    "leverage_score=0\n",
    "operating_efficiency_score=0\n",
    "pe_ratio=0"
   ]
  },
  {
   "cell_type": "markdown",
   "id": "891476b3",
   "metadata": {},
   "source": [
    "# Fetch fin statements"
   ]
  },
  {
   "cell_type": "code",
   "execution_count": 10,
   "id": "afa9ee55",
   "metadata": {},
   "outputs": [],
   "source": [
    "def get_data(ticker):\n",
    "    global balance_sheet\n",
    "    global income_statement\n",
    "    global cfs\n",
    "    global years\n",
    "    balance_sheet=yf.get_balance_sheet(ticker)\n",
    "    income_statement=yf.get_income_statement(ticker)\n",
    "    cfs=yf.get_cash_flow(ticker)\n",
    "    years=balance_sheet.columns"
   ]
  },
  {
   "cell_type": "markdown",
   "id": "ed8c6c16",
   "metadata": {},
   "source": [
    "# PE Ratios"
   ]
  },
  {
   "cell_type": "code",
   "execution_count": 11,
   "id": "0076aa78",
   "metadata": {},
   "outputs": [],
   "source": [
    "def pe(ticker):\n",
    "    global pe_ratio\n",
    "    pe_ratio=yf.get_quote_table(ticker)['PE Ratio (TTM)']\n",
    "    if pe_ratio != pe_ratio: #check if NaN\n",
    "        pe_ratio=0"
   ]
  },
  {
   "cell_type": "markdown",
   "id": "70a8333a",
   "metadata": {},
   "source": [
    "## Defining Profitability"
   ]
  },
  {
   "cell_type": "code",
   "execution_count": 12,
   "id": "97d165d1",
   "metadata": {},
   "outputs": [],
   "source": [
    "def profitability():\n",
    "    global profitability_score\n",
    "    #Criteria 1\n",
    "    # Scores 1 and 2 - Net income\n",
    "    net_income=income_statement[years[0]]['netIncome']\n",
    "    net_income_py=income_statement[years[1]]['netIncome']\n",
    "    ni_score=1 if net_income > 0 else 0  \n",
    "    ni_score_2=1 if net_income > net_income_py else 0\n",
    "    \n",
    "    #Criteria 2\n",
    "    # Score 3 -operating cash flow\n",
    "    op_cf = cfs[years[0]]['totalCashFromOperatingActivities']\n",
    "    op_cf_score=1 if op_cf>0 else 0\n",
    "    \n",
    "    #Criteria 3\n",
    "    #Score 4-Change in RoA\n",
    "    avg_assets=(balance_sheet[years[0]]['totalAssets']+balance_sheet[years[1]]['totalAssets'])/2\n",
    "    avg_assets_py=(balance_sheet[years[1]]['totalAssets']+balance_sheet[years[2]]['totalAssets'])/2\n",
    "    RoA=net_income/avg_assets\n",
    "    RoA_py=net_income_py/avg_assets_py\n",
    "    RoA_score=1 if RoA > RoA_py else 0\n",
    "    \n",
    "    #Criteria 4\n",
    "    #Score 5-Accruals\n",
    "    total_assets=balance_sheet[years[0]]['totalAssets']\n",
    "    accurals=op_cf/total_assets - RoA\n",
    "    ac_score = 1 if accurals>0 else 0\n",
    "    \n",
    "    profitability_score=ni_score+ni_score_2+op_cf_score+RoA_score+ac_score\n",
    "    print(\"Profitability Score: \"+str(profitability_score))"
   ]
  },
  {
   "cell_type": "markdown",
   "id": "9d0a22ed",
   "metadata": {},
   "source": [
    "## Defining Leverage"
   ]
  },
  {
   "cell_type": "code",
   "execution_count": 13,
   "id": "96b2764d",
   "metadata": {},
   "outputs": [],
   "source": [
    "def leverage():\n",
    "    global leverage_score\n",
    "    #Criteria 5 (Modified long-term levarge ratio)\n",
    "    #Score 6 - Long-term debt ratio\n",
    "    try:\n",
    "        lt_debt=balance_sheet[years[0]]['longTermDebt']\n",
    "        total_assets=balance_sheet[years[0]]['totalAssets']\n",
    "        debt_ratio=lt_debt/total_assets        \n",
    "        debt_ratio_score=1 if debt_ratio<0.4 else 0        \n",
    "    except:\n",
    "        debt_ratio_score=1\n",
    "    \n",
    "        \n",
    "    #Criteria 6 (Modified current ratio)\n",
    "    #Score 7 -Current ratio\n",
    "    current_assets=balance_sheet[years[0]]['totalCurrentAssets']\n",
    "    current_liab=balance_sheet[years[0]]['totalCurrentLiabilities']\n",
    "    current_ratio=current_assets/current_liab   \n",
    "    current_ratio_score=1 if current_ratio>1 else 0\n",
    "    \n",
    "    leverage_score = debt_ratio_score + current_ratio_score\n",
    "    print(\"Leverage Score: \"+str(leverage_score))"
   ]
  },
  {
   "cell_type": "markdown",
   "id": "7db49076",
   "metadata": {},
   "source": [
    "## Defining Operating Efficiency"
   ]
  },
  {
   "cell_type": "code",
   "execution_count": 14,
   "id": "dfcb0619",
   "metadata": {},
   "outputs": [],
   "source": [
    "def operating_efficiency():\n",
    "    global operating_efficiency_score\n",
    "    #Criteria 8\n",
    "    #Score 8-Gross margin\n",
    "    gp=income_statement[years[0]]['grossProfit']\n",
    "    gp_py=income_statement[years[1]]['grossProfit']\n",
    "    revenue=income_statement[years[0]]['totalRevenue']\n",
    "    revenue_py=income_statement[years[1]]['totalRevenue']\n",
    "    gm=gp/revenue\n",
    "    gm_py=gp_py/revenue_py\n",
    "    gm_score=1 if gm>gm_py else 0\n",
    "    \n",
    "    #Criteria 9\n",
    "    #Score 9-Asset Turnover\n",
    "    avg_assets=(balance_sheet[years[0]]['totalAssets']+balance_sheet[years[1]]['totalAssets'])/2\n",
    "    avg_assets_py=(balance_sheet[years[1]]['totalAssets']+balance_sheet[years[2]]['totalAssets'])/2\n",
    "    asset_turnover=revenue/avg_assets  \n",
    "    asset_turnover_py=revenue_py/avg_assets_py\n",
    "    asset_turnover_score=1 if asset_turnover>asset_turnover_py else 0\n",
    "    \n",
    "    operating_efficiency_score=gm_score+asset_turnover_score\n",
    "    print(\"Operating Efficiency: \"+str(operating_efficiency_score))"
   ]
  },
  {
   "cell_type": "code",
   "execution_count": null,
   "id": "6e87a1bf",
   "metadata": {
    "scrolled": true
   },
   "outputs": [
    {
     "name": "stdout",
     "output_type": "stream",
     "text": [
      "CLN.SI\n",
      "Profitability Score: 5\n",
      "Leverage Score: 2\n",
      "Operating Efficiency: 0\n",
      "CLN.SI added.\n",
      "A30.SI\n",
      "Profitability Score: 5\n",
      "Leverage Score: 2\n",
      "Operating Efficiency: 0\n",
      "A30.SI added.\n",
      "B61.SI\n",
      "Profitability Score: 5\n",
      "Leverage Score: 2\n",
      "Operating Efficiency: 1\n",
      "B61.SI added.\n",
      "BTE.SI\n",
      "Profitability Score: 3\n",
      "Leverage Score: 2\n",
      "Operating Efficiency: 0\n",
      "BTE.SI added.\n"
     ]
    }
   ],
   "source": [
    "tickers=['CLN.SI','A30.SI','B61.SI','BTE.SI','OU8.SI','C29.SI','C33.SI','C09.SI','ADN.SI','TQ5.SI','586.SI','5PC.SI','F17.SI','5DP.SI'\n",
    "        ,'5JK.SI','H13.SI','H30.SI','H78.SI','H19.SI','41O.SI','LJ3.SI','5UX.SI','OYY.SI','E8Z.SI','A26.SI','5IC.SI','U06.SI','5H0.SI'\n",
    "        ,'AWI.SI','T24.SI','CHJ.SI','EH5.SI','U14.SI','W05.SI','Z25.SI','Z59.SI']\n",
    "summary=pd.DataFrame(columns = ['Ticker', 'PE ratio', 'Profitability', 'Leverage', 'Operating efficiency'])\n",
    "for ticker in tickers:\n",
    "    try:\n",
    "        get_data(ticker)\n",
    "        pe(ticker)\n",
    "        print(ticker)\n",
    "        profitability()\n",
    "        leverage()\n",
    "        operating_efficiency()\n",
    "        new_row={'Ticker':ticker,\n",
    "                 'PE ratio':pe_ratio,\n",
    "                 'Profitability':profitability_score,\n",
    "                 'Leverage':leverage_score,\n",
    "                 'Operating efficiency':operating_efficiency_score}\n",
    "        summary=summary.append(new_row, ignore_index=True)\n",
    "        print(ticker+' added.')    \n",
    "        time.sleep(3)\n",
    "    except:\n",
    "        print(ticker+':Something went wrong.')\n",
    "\n",
    "summary['Total score'] =summary['Profitability']+summary['Leverage']+summary['Operating efficiency']\n",
    "summary.to_csv('Summary.csv')   "
   ]
  },
  {
   "cell_type": "code",
   "execution_count": null,
   "id": "8b8d8622",
   "metadata": {},
   "outputs": [],
   "source": [
    "summary"
   ]
  },
  {
   "cell_type": "code",
   "execution_count": null,
   "id": "1c1f20bb",
   "metadata": {},
   "outputs": [],
   "source": [
    "test_summary=pd.DataFrame(columns = ['Ticker', 'PE ratio', 'Profitability', 'Leverage', 'Operating efficiency'])\n",
    "test_tickers=['msft','aapl','googl','nio']\n",
    "for ticker in test_tickers:\n",
    "    try:\n",
    "        get_data(ticker)\n",
    "        pe(ticker)\n",
    "        print(ticker)\n",
    "        profitability()\n",
    "        leverage()\n",
    "        operating_efficiency()\n",
    "        new_row={'Ticker':ticker,\n",
    "                 'PE ratio':pe_ratio,\n",
    "                 'Profitability':profitability_score,\n",
    "                 'Leverage':leverage_score,\n",
    "                 'Operating efficiency':operating_efficiency_score}\n",
    "        test_summary=test_summary.append(new_row, ignore_index=True)\n",
    "        print(ticker+' added.')    \n",
    "#         time.sleep(3)\n",
    "    except:\n",
    "        print(ticker+':Something went wrong.')\n",
    "\n",
    "test_summary['Total score'] =test_summary['Profitability']+test_summary['Leverage']+test_summary['Operating efficiency']"
   ]
  },
  {
   "cell_type": "code",
   "execution_count": null,
   "id": "cb8997fb",
   "metadata": {},
   "outputs": [],
   "source": [
    "test_summary"
   ]
  },
  {
   "cell_type": "code",
   "execution_count": null,
   "id": "b0b9c692",
   "metadata": {},
   "outputs": [],
   "source": []
  }
 ],
 "metadata": {
  "kernelspec": {
   "display_name": "Python 3",
   "language": "python",
   "name": "python3"
  },
  "language_info": {
   "codemirror_mode": {
    "name": "ipython",
    "version": 3
   },
   "file_extension": ".py",
   "mimetype": "text/x-python",
   "name": "python",
   "nbconvert_exporter": "python",
   "pygments_lexer": "ipython3",
   "version": "3.8.8"
  }
 },
 "nbformat": 4,
 "nbformat_minor": 5
}
